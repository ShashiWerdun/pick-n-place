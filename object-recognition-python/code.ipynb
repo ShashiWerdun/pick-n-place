{
 "cells": [
  {
   "cell_type": "code",
   "execution_count": 21,
   "id": "53e7dc30",
   "metadata": {},
   "outputs": [],
   "source": [
    "import cv2 as cv\n",
    "import numpy as np"
   ]
  },
  {
   "cell_type": "code",
   "execution_count": 22,
   "id": "3b0d7f58",
   "metadata": {},
   "outputs": [],
   "source": [
    "def show_image(image, image_name):\n",
    "    cv.imshow(image_name, image)\n",
    "    cv.waitKey(0)\n",
    "    cv.destroyAllWindows()"
   ]
  },
  {
   "cell_type": "code",
   "execution_count": 23,
   "id": "a0957fbd",
   "metadata": {},
   "outputs": [],
   "source": [
    "grayscale_img = cv.imread('./sample-3.jpeg', cv.IMREAD_GRAYSCALE)\n",
    "show_image(grayscale_img, 'gray scale image')"
   ]
  },
  {
   "cell_type": "code",
   "execution_count": 24,
   "id": "b3a9aaf3",
   "metadata": {},
   "outputs": [
    {
     "name": "stdout",
     "output_type": "stream",
     "text": [
      "191.0\n"
     ]
    }
   ],
   "source": [
    "threshold, binary_image = cv.threshold(grayscale_img, 0, 255, cv.THRESH_BINARY + cv.THRESH_OTSU)\n",
    "print(threshold)\n",
    "show_image(binary_image, 'thresholded image')"
   ]
  },
  {
   "cell_type": "code",
   "execution_count": 25,
   "id": "2be3d580",
   "metadata": {},
   "outputs": [],
   "source": [
    "edge_image = cv.Canny(binary_image, 100, 70)\n",
    "show_image(edge_image, 'edge detected image')"
   ]
  },
  {
   "cell_type": "code",
   "execution_count": null,
   "id": "d003553c",
   "metadata": {},
   "outputs": [],
   "source": []
  }
 ],
 "metadata": {
  "kernelspec": {
   "display_name": "Python 3 (ipykernel)",
   "language": "python",
   "name": "python3"
  },
  "language_info": {
   "codemirror_mode": {
    "name": "ipython",
    "version": 3
   },
   "file_extension": ".py",
   "mimetype": "text/x-python",
   "name": "python",
   "nbconvert_exporter": "python",
   "pygments_lexer": "ipython3",
   "version": "3.8.10"
  }
 },
 "nbformat": 4,
 "nbformat_minor": 5
}
